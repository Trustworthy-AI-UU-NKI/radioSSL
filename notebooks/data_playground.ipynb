{
 "cells": [
  {
   "cell_type": "code",
   "execution_count": 1,
   "id": "f439f54f5eba4bc7",
   "metadata": {
    "ExecuteTime": {
     "end_time": "2024-01-20T16:48:59.348801918Z",
     "start_time": "2024-01-20T16:48:59.050046633Z"
    },
    "collapsed": false
   },
   "outputs": [
    {
     "ename": "ModuleNotFoundError",
     "evalue": "No module named 'nibabel'",
     "output_type": "error",
     "traceback": [
      "\u001b[0;31m---------------------------------------------------------------------------\u001b[0m",
      "\u001b[0;31mModuleNotFoundError\u001b[0m                       Traceback (most recent call last)",
      "\u001b[0;32m<ipython-input-1-5f114879f11d>\u001b[0m in \u001b[0;36m<module>\u001b[0;34m\u001b[0m\n\u001b[1;32m      1\u001b[0m \u001b[0;32mimport\u001b[0m \u001b[0mos\u001b[0m\u001b[0;34m\u001b[0m\u001b[0;34m\u001b[0m\u001b[0m\n\u001b[1;32m      2\u001b[0m \u001b[0;32mimport\u001b[0m \u001b[0mnumpy\u001b[0m \u001b[0;32mas\u001b[0m \u001b[0mnp\u001b[0m\u001b[0;34m\u001b[0m\u001b[0;34m\u001b[0m\u001b[0m\n\u001b[0;32m----> 3\u001b[0;31m \u001b[0;32mimport\u001b[0m \u001b[0mnibabel\u001b[0m \u001b[0;32mas\u001b[0m \u001b[0mnib\u001b[0m\u001b[0;34m\u001b[0m\u001b[0;34m\u001b[0m\u001b[0m\n\u001b[0m\u001b[1;32m      4\u001b[0m \u001b[0;32mimport\u001b[0m \u001b[0mcv2\u001b[0m\u001b[0;34m\u001b[0m\u001b[0;34m\u001b[0m\u001b[0m\n\u001b[1;32m      5\u001b[0m \u001b[0;32mimport\u001b[0m \u001b[0mmatplotlib\u001b[0m\u001b[0;34m.\u001b[0m\u001b[0mpyplot\u001b[0m \u001b[0;32mas\u001b[0m \u001b[0mplt\u001b[0m\u001b[0;34m\u001b[0m\u001b[0;34m\u001b[0m\u001b[0m\n",
      "\u001b[0;31mModuleNotFoundError\u001b[0m: No module named 'nibabel'"
     ]
    }
   ],
   "source": [
    "import os\n",
    "import numpy as np\n",
    "import nibabel as nib\n",
    "import cv2\n",
    "import matplotlib.pyplot as plt\n",
    "import matplotlib.animation as animation\n",
    "import IPython.display as ipyd\n",
    "from PIL import Image\n",
    "from tqdm import tqdm"
   ]
  },
  {
   "cell_type": "code",
   "execution_count": 2,
   "id": "baae7e4bc3df289",
   "metadata": {
    "ExecuteTime": {
     "end_time": "2024-01-20T16:48:59.418322792Z",
     "start_time": "2024-01-20T16:48:59.295116614Z"
    },
    "collapsed": false
   },
   "outputs": [],
   "source": [
    "n_slices = 155\n",
    "label_color_map = {0: [0,0,0], 63: [0,0,255], 127: [0,255,0], 255: [255,0,0]}\n",
    "modes = ['flair', 't1', 't1ce', 't2']"
   ]
  },
  {
   "cell_type": "code",
   "execution_count": 3,
   "id": "37503e6732b89024",
   "metadata": {
    "ExecuteTime": {
     "end_time": "2024-01-20T16:48:59.551020036Z",
     "start_time": "2024-01-20T16:48:59.368590680Z"
    },
    "collapsed": false
   },
   "outputs": [],
   "source": [
    "def load_nifti(img_path):\n",
    "    \"\"\"\n",
    "    Loads data from nifti file into 3D numpy array\n",
    "    \"\"\"\n",
    "    img = nib.load(img_path)\n",
    "    img = img.get_fdata()\n",
    "    img = (img/img.max())*255\n",
    "    img = img.astype(np.uint8)\n",
    "    return img\n",
    "\n",
    "\n",
    "def generate_img_slices(img_path, target_path, resize=None):\n",
    "    \"\"\"\n",
    "    Generates 2D image slices from 3D nifti image files and saves them in the target folder\n",
    "    \"\"\"\n",
    "    img_name = os.path.split(img_path)[-1].split('.')[0]\n",
    "    img = load_nifti(img_path)\n",
    "    \n",
    "    # Generate slices\n",
    "    for i in range(img.shape[2]):\n",
    "        img_slice_name = img_name + '_' + str(i) + '.jpg'\n",
    "        img_slice_path = os.path.join(target_path, img_slice_name)\n",
    "        img_slice = img[:,:,i]\n",
    "        \n",
    "        if resize:\n",
    "            img_slice = cv2.resize(img_slice, dsize=(resize,resize), interpolation=cv2.INTER_CUBIC)\n",
    "       \n",
    "        # Make output directory if not exists\n",
    "        try: os.makedirs(target_path)\n",
    "        except FileExistsError: pass\n",
    "        cv2.imwrite(img_slice_path, img_slice)\n",
    "        \n",
    "        \n",
    "def generate_seg_slices(seg_path, target_path):\n",
    "    \"\"\"\n",
    "    Generates 2D segmentation mask slices from 3D nifti segmentation mask files and saves them in the target folder\n",
    "    \"\"\"\n",
    "    seg_name = os.path.split(seg_path)[-1].split('.')[0]\n",
    "    seg = load_nifti(seg_path)\n",
    "    \n",
    "    # Generate slices\n",
    "    for i in range(seg.shape[2]):\n",
    "        seg_slice_name = seg_name + '_' + str(i) + '.npy'\n",
    "        seg_slice_path = os.path.join(target_path, seg_slice_name)\n",
    "        seg_slice = seg[:,:,i]\n",
    "        \n",
    "        # Make output directory if not exists\n",
    "        try: os.makedirs(target_path)\n",
    "        except FileExistsError: pass\n",
    "        np.save(seg_slice_path, seg_slice)\n",
    "    \n",
    "    \n",
    "def apply_seg_mask(img_arr, seg_arr):\n",
    "    \"\"\"\n",
    "    Receives numpy arrays of a 2D RGB image and a 2D RGB segmentation mask slice and applies the latter on the former, producing a numpy array of a segmented image.\n",
    "    \"\"\"\n",
    "    seg_img_arr = img_arr.copy()\n",
    "    mask = np.any(seg_arr!=[0,0,0],axis=2)  #  Select the pixels of the segmentation mask where the mask is not empty (axis 2 is for the color channel)\n",
    "    seg_img_arr[mask] = seg_arr[mask]  # Apply the non-empty pixels of the segmentation mask to the image\n",
    "    return seg_img_arr\n",
    "\n",
    "    \n",
    "def plot_gif(data_path, id, save_path):\n",
    "    \"\"\"\n",
    "    Plots gif for each modality from a data sample id\n",
    "    \"\"\"\n",
    "    frames = {mode: [] for mode in modes}\n",
    "    \n",
    "    for n in range(n_slices): # For each slice\n",
    "        \n",
    "        # Load segmentation mask slice\n",
    "        seg_name = f'BraTS20_Training_{\"0\" * max(0, 3 - len(str(id))) + str(id)}_seg'\n",
    "        seg_slice_path = os.path.join(data_path, seg_name + f'_{n}.npy')\n",
    "        seg_slice =  np.load(seg_slice_path)\n",
    "        \n",
    "        # Convert segmentation mask slice to RGB numpy array using a label-color mapping\n",
    "        seg_slice_rgb = np.zeros([dim for dim in list(seg_slice.shape)] + [3])  # Add extra dimension (3) for RGB\n",
    "        for label in label_color_map.keys():\n",
    "            seg_slice_rgb[seg_slice==label] = label_color_map[label]\n",
    "            \n",
    "        # TODO: Might need to resize the segmentation mask  array to match the image array in case we resized the images\n",
    "\n",
    "        # Plot gif for each modality of slice n\n",
    "        for mode in modes:\n",
    "            \n",
    "            # Load image slice\n",
    "            img_name = f'BraTS20_Training_{\"0\" * max(0, 3 - len(str(id))) + str(id)}_{mode}'  \n",
    "            img_slice_path = os.path.join(data_path, img_name + f'_{n}.jpg')\n",
    "            img_slice = Image.open(img_slice_path)\n",
    "             \n",
    "             # Convert image slice to RGB numpy array\n",
    "            img_slice_rgb = np.expand_dims(np.asarray(img_slice),axis=2).repeat(3,axis=2)\n",
    "            \n",
    "            seg_img_slice = Image.fromarray(apply_seg_mask(img_slice_rgb, seg_slice_rgb))  # Generate a segmented image slice\n",
    "            frames[mode].append(seg_img_slice)  # Add it as a frame to the gif\n",
    "        \n",
    "    for mode in modes:  \n",
    "        img_name = f'BraTS20_Training_{\"0\" * max(0, 3 - len(str(id))) + str(id)}_{mode}' \n",
    "        gif_path = os.path.join(save_path, img_name + '.gif')\n",
    "        frame_one = frames[mode][0]\n",
    "        frame_one.save(gif_path, format=\"GIF\", append_images=frames[mode],\n",
    "                   save_all=True, duration=100, loop=0)\n",
    "        print(f'Saved at: {gif_path}')\n",
    "        \n",
    "        \n",
    "def generate_2D_dataset(source_path, target_path, resize=None):\n",
    "    \"\"\"\n",
    "    Generates 2D dataset in target path from the 3D dataset in source path\n",
    "    \"\"\"\n",
    "    for sample_name in tqdm(next(os.walk(source_path))[1]):  # For every folder (dataset sample) in the source path\n",
    "        sample_path = os.path.join(source_path, sample_name)\n",
    "        for file_name in next(os.walk(sample_path))[2]:  # For every file in the sample path\n",
    "            file_path = os.path.join(sample_path,file_name)\n",
    "            if 'seg' not in file_name:  # If the file is a modality and not a segmentation mask\n",
    "                generate_img_slices(file_path, target_path, resize)\n",
    "            else:\n",
    "                generate_seg_slices(file_path, target_path)\n",
    "            "
   ]
  },
  {
   "cell_type": "code",
   "execution_count": 16,
   "id": "f022c0e525fb6aeb",
   "metadata": {
    "ExecuteTime": {
     "end_time": "2023-11-21T12:42:23.273613055Z",
     "start_time": "2023-11-21T12:38:05.198872354Z"
    },
    "collapsed": false
   },
   "outputs": [
    {
     "name": "stderr",
     "output_type": "stream",
     "text": [
      "100%|██████████| 369/369 [04:17<00:00,  1.43it/s]\n"
     ]
    }
   ],
   "source": [
    "generate_2D_dataset('/mnt/5C5C25FB5C25D116/data/BraTS2020/train', '/mnt/5C5C25FB5C25D116/data/BraTS2020/train_2D')"
   ]
  },
  {
   "cell_type": "code",
   "execution_count": 17,
   "id": "d08235887a2021c2",
   "metadata": {
    "ExecuteTime": {
     "end_time": "2023-11-21T12:43:49.947811919Z",
     "start_time": "2023-11-21T12:42:22.961737978Z"
    },
    "collapsed": false
   },
   "outputs": [
    {
     "name": "stderr",
     "output_type": "stream",
     "text": [
      "100%|██████████| 125/125 [01:26<00:00,  1.44it/s]\n"
     ]
    }
   ],
   "source": [
    "generate_2D_dataset('/mnt/5C5C25FB5C25D116/data/BraTS2020/val', '/mnt/5C5C25FB5C25D116/data/BraTS2020/val_2D')"
   ]
  },
  {
   "cell_type": "code",
   "execution_count": 55,
   "id": "d43b085d4e5f3b2d",
   "metadata": {
    "ExecuteTime": {
     "end_time": "2023-11-22T12:20:02.070436674Z",
     "start_time": "2023-11-22T12:19:59.131397808Z"
    },
    "collapsed": false
   },
   "outputs": [
    {
     "name": "stdout",
     "output_type": "stream",
     "text": [
      "Saved at: ../results/BraTS20_Training_026_flair.gif\n",
      "Saved at: ../results/BraTS20_Training_026_t1.gif\n",
      "Saved at: ../results/BraTS20_Training_026_t1ce.gif\n",
      "Saved at: ../results/BraTS20_Training_026_t2.gif\n"
     ]
    }
   ],
   "source": [
    "plot_gif('/mnt/5C5C25FB5C25D116/data/BraTS2020/train_2D', 26, '../results')"
   ]
  },
  {
   "cell_type": "markdown",
   "id": "bbff1e9341fd12a5",
   "metadata": {
    "collapsed": false
   },
   "source": []
  },
  {
   "cell_type": "code",
   "execution_count": 46,
   "id": "f7a722cfe60e55c1",
   "metadata": {
    "ExecuteTime": {
     "end_time": "2023-11-22T12:10:59.816386385Z",
     "start_time": "2023-11-22T12:10:59.773103378Z"
    },
    "collapsed": false
   },
   "outputs": [],
   "source": [
    "# from scipy.linalg import circulant\n",
    "# x_vec = np.concatenate([np.linspace(start=0, stop=1, num=50),np.linspace(start=1, stop=0, num=50)])\n",
    "# x = np.expand_dims(circulant(x_vec),axis=2).repeat(3,axis=2)\n",
    "# \n",
    "# k = 25\n",
    "# y = np.ones((x.shape[0], x.shape[1]))\n",
    "# for i in range(-k,k):\n",
    "#     y += np.eye(x.shape[0], x.shape[1], i)\n",
    "# y_rgb = np.zeros([dim for dim in list(y.shape)] + [3])\n",
    "# y_rgb[y==1] = [1,0,0]\n",
    "# new_x = x.copy()\n",
    "# new_x[np.any(y_rgb!=[0,0,0],axis=2)] = y_rgb[np.any(y_rgb!=[0,0,0],axis=2)]\n",
    "# plt.figure()\n",
    "# plt.imshow(x)\n",
    "# plt.figure()\n",
    "# plt.imshow(y_rgb)\n",
    "# plt.figure()\n",
    "# plt.imshow(new_x)\n",
    "# Image.fromarray((new_x * 255).astype(np.uint8)).show()"
   ]
  },
  {
   "cell_type": "code",
   "execution_count": 3,
   "id": "162157b04e0a8c71",
   "metadata": {
    "collapsed": false
   },
   "outputs": [
    {
     "name": "stderr",
     "output_type": "stream",
     "text": [
      "Images in fold 0 parsed: 100%|██████████| 89/89 [00:18<00:00,  4.72it/s]\n",
      "Images in fold 1 parsed: 100%|██████████| 89/89 [00:16<00:00,  5.48it/s]\n",
      "Images in fold 2 parsed: 100%|██████████| 89/89 [00:20<00:00,  4.31it/s]\n",
      "Images in fold 3 parsed: 100%|██████████| 89/89 [00:22<00:00,  4.01it/s]\n",
      "Images in fold 4 parsed: 100%|██████████| 89/89 [00:17<00:00,  5.07it/s]\n",
      "Images in fold 5 parsed: 100%|██████████| 89/89 [00:17<00:00,  5.08it/s]\n",
      "Images in fold 6 parsed: 100%|██████████| 89/89 [00:16<00:00,  5.42it/s]\n",
      "Images in fold 7 parsed: 100%|██████████| 89/89 [00:17<00:00,  5.02it/s]\n",
      "Images in fold 8 parsed: 100%|██████████| 88/88 [00:15<00:00,  5.50it/s]\n",
      "Images in fold 9 parsed: 100%|██████████| 88/88 [00:16<00:00,  5.20it/s]\n"
     ]
    }
   ],
   "source": [
    "import numpy as np\n",
    "from glob import glob\n",
    "import SimpleITK as sitk\n",
    "from tqdm import tqdm\n",
    "import os\n",
    "\n",
    "def load_sitk_with_resample(img_path):\n",
    "    outsize = [0, 0, 0]\n",
    "    outspacing = [1, 1, 1]\n",
    "\n",
    "    vol = sitk.ReadImage(img_path)\n",
    "    inputsize = vol.GetSize()\n",
    "    return inputsize\n",
    "\n",
    "data_path = '/projects/0/prjs0905/data/LUNA16'\n",
    "xyz = []\n",
    "\n",
    "for index_subset in range(0,10):\n",
    "    luna_subset_path = os.path.join(data_path, \"subset\" + str(index_subset))\n",
    "    file_list = glob(os.path.join(luna_subset_path, \"*.mhd\"))  # Only selects mhd files (excludes the segmentations)\n",
    "    subset = 'subset' + str(index_subset)\n",
    "    \n",
    "    for img_file in tqdm(file_list, desc=f'Images in fold {index_subset} parsed'):\n",
    "        img_name = os.path.split(img_file)[-1]\n",
    "        size = load_sitk_with_resample(img_file)\n",
    "        xyz.append(size[2])\n",
    "        "
   ]
  },
  {
   "cell_type": "code",
   "execution_count": 4,
   "id": "82c88194",
   "metadata": {},
   "outputs": [
    {
     "name": "stdout",
     "output_type": "stream",
     "text": [
      "764\n",
      "95\n"
     ]
    }
   ],
   "source": [
    "print(np.max(xyz))\n",
    "print(np.min(xyz))"
   ]
  },
  {
   "cell_type": "code",
   "execution_count": null,
   "id": "94e90198",
   "metadata": {},
   "outputs": [],
   "source": []
  }
 ],
 "metadata": {
  "kernelspec": {
   "display_name": "Python 3",
   "language": "python",
   "name": "python3"
  },
  "language_info": {
   "codemirror_mode": {
    "name": "ipython",
    "version": 2
   },
   "file_extension": ".py",
   "mimetype": "text/x-python",
   "name": "python",
   "nbconvert_exporter": "python",
   "pygments_lexer": "ipython2",
   "version": "2.7.6"
  }
 },
 "nbformat": 4,
 "nbformat_minor": 5
}
